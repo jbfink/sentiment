{
 "cells": [
  {
   "cell_type": "markdown",
   "metadata": {},
   "source": [
    "This is a markdown sentence. Below we are going to try to replicate my dumb sentiment analyzer in a notebook"
   ]
  },
  {
   "cell_type": "markdown",
   "metadata": {},
   "source": [
    "First we set up the library. If it is not already in your conda/environment, you must get it with ```pip install textblob``` as it is not in conda."
   ]
  },
  {
   "cell_type": "code",
   "execution_count": 4,
   "metadata": {},
   "outputs": [],
   "source": [
    "import sys\n",
    "from textblob import TextBlob"
   ]
  },
  {
   "cell_type": "markdown",
   "metadata": {},
   "source": [
    "Next comes the function for judging."
   ]
  },
  {
   "cell_type": "code",
   "execution_count": 5,
   "metadata": {},
   "outputs": [],
   "source": [
    "def judge(score):\n",
    "    \"This function takes the sentiment score and applies a judgment to it\"\n",
    "    if score > 0.01 and score < 0.3:\n",
    "        print(\"I declare this.... somewhat positive!\") \n",
    "    elif score > 0.3:\n",
    "        print(\"I declare this.... very positive!\")\n",
    "    elif score < -0.01 and score > -0.3:\n",
    "        print(\"I declare this.... somewhat negative!\")\n",
    "    elif score < -0.3:\n",
    "        print(\"I declare this.... very negative!\")\n",
    "    elif score == 0:\n",
    "        print(\"I declare this.... true neutral!\")\n",
    "    else:\n",
    "        print(\"wtf!!!!??\")"
   ]
  },
  {
   "cell_type": "code",
   "execution_count": null,
   "metadata": {},
   "outputs": [],
   "source": []
  }
 ],
 "metadata": {
  "kernelspec": {
   "display_name": "Python 3",
   "language": "python",
   "name": "python3"
  },
  "language_info": {
   "codemirror_mode": {
    "name": "ipython",
    "version": 3
   },
   "file_extension": ".py",
   "mimetype": "text/x-python",
   "name": "python",
   "nbconvert_exporter": "python",
   "pygments_lexer": "ipython3",
   "version": "3.7.5"
  }
 },
 "nbformat": 4,
 "nbformat_minor": 4
}
