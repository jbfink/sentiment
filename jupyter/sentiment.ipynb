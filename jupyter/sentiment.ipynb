{
 "cells": [
  {
   "cell_type": "markdown",
   "metadata": {},
   "source": [
    "Below we are going to try to replicate my [sentiment analyzer](https://github.com/jbfink/sentiment) in a notebook."
   ]
  },
  {
   "cell_type": "markdown",
   "metadata": {},
   "source": [
    "First we set up the library. If you haven't done it already, go to the main ```sentiment``` directory and do ```conda env create -f environment.yml```"
   ]
  },
  {
   "cell_type": "code",
   "execution_count": 22,
   "metadata": {},
   "outputs": [],
   "source": [
    "import sys\n",
    "from textblob import TextBlob"
   ]
  },
  {
   "cell_type": "markdown",
   "metadata": {},
   "source": [
    "Next comes the function for judging."
   ]
  },
  {
   "cell_type": "code",
   "execution_count": 23,
   "metadata": {},
   "outputs": [],
   "source": [
    "def judge(score):\n",
    "    \"This function takes the sentiment score and applies a judgment to it\"\n",
    "    if score > 0.01 and score < 0.3:\n",
    "        print(\"I declare this.... somewhat positive!\") \n",
    "    elif score > 0.3:\n",
    "        print(\"I declare this.... very positive!\")\n",
    "    elif score < -0.01 and score > -0.3:\n",
    "        print(\"I declare this.... somewhat negative!\")\n",
    "    elif score < -0.3:\n",
    "        print(\"I declare this.... very negative!\")\n",
    "    elif score == 0:\n",
    "        print(\"I declare this.... true neutral!\")\n",
    "    else:\n",
    "        print(\"wtf!!!!??\")"
   ]
  },
  {
   "cell_type": "markdown",
   "metadata": {},
   "source": [
    "This is slightly different from the script. Script chooses text file to analyze by ```argv```; I don't know if ```argv``` works in notebook so I am just going to load a file directly. People can change the file if they want."
   ]
  },
  {
   "cell_type": "code",
   "execution_count": 24,
   "metadata": {},
   "outputs": [
    {
     "name": "stdout",
     "output_type": "stream",
     "text": [
      "Sentiment(polarity=-0.4, subjectivity=0.7933333333333332)\n"
     ]
    }
   ],
   "source": [
    "text_file = open(\"../negative.txt\", \"r\")\n",
    "output = text_file.read()\n",
    "text_sentiment = TextBlob(output)\n",
    "score = text_sentiment.sentiment.polarity\n",
    "print(text_sentiment.sentiment)"
   ]
  },
  {
   "cell_type": "markdown",
   "metadata": {},
   "source": [
    "Now we judge."
   ]
  },
  {
   "cell_type": "code",
   "execution_count": 25,
   "metadata": {},
   "outputs": [
    {
     "name": "stdout",
     "output_type": "stream",
     "text": [
      "I declare this.... very negative!\n"
     ]
    }
   ],
   "source": [
    "judge(score)\n"
   ]
  },
  {
   "cell_type": "markdown",
   "metadata": {},
   "source": [
    "![SegmentLocal](programming.gif \"segment\")\n"
   ]
  }
 ],
 "metadata": {
  "kernelspec": {
   "display_name": "Python 3",
   "language": "python",
   "name": "python3"
  },
  "language_info": {
   "codemirror_mode": {
    "name": "ipython",
    "version": 3
   },
   "file_extension": ".py",
   "mimetype": "text/x-python",
   "name": "python",
   "nbconvert_exporter": "python",
   "pygments_lexer": "ipython3",
   "version": "3.7.5"
  }
 },
 "nbformat": 4,
 "nbformat_minor": 4
}
